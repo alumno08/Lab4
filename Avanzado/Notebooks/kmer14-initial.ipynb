{
 "cells": [
  {
   "cell_type": "markdown",
   "metadata": {},
   "source": [
    "## A Short Introduction to DNA K-mers\n",
    "\n",
    "A DNA is a long chain of units called nucleotides. In DNA, there are 4 types ofnucleotides shown with letters A, C, G, and T. Humans (or more precisely HomoSapiens) have 3 billion nucleotide pairs. For example, a small portion of human DNA could be something like:\n",
    "\n",
    "ACTAGGGATCATGAAGATAATGTTGGTGTTTGTATGGTTTTCAGACAATT\n",
    "\n",
    "In this example, if you choose any 4 consecutive nucleotides (i.e. letters) from this string, it will be a k-mer with a length of 4 (we call it a 4-mer). Here are some examples of 4-mers derived from the example: \n",
    "ACTA\n",
    ",\n",
    "CTAG\n",
    ",\n",
    "TAGG\n",
    ",\n",
    "AGGG\n",
    ",\n",
    "GGGA\n",
    ", etc."
   ]
  },
  {
   "cell_type": "markdown",
   "metadata": {},
   "source": [
    "### Plain Python"
   ]
  },
  {
   "cell_type": "code",
   "execution_count": 1,
   "metadata": {},
   "outputs": [
    {
     "name": "stdout",
     "output_type": "stream",
     "text": [
      "Start\n",
      "Number of generated k-mers: 16777216\n",
      "\n",
      "8.89 s ± 20.6 ms per loop (mean ± std. dev. of 3 runs, 1 loop each)\n",
      "\n",
      "Finish!\n"
     ]
    }
   ],
   "source": [
    "def convert(c):\n",
    "    if (c == 'A'): return 'C'\n",
    "    if (c == 'C'): return 'G'\n",
    "    if (c == 'G'): return 'T'\n",
    "    if (c == 'T'): return 'A'\n",
    "\n",
    "\n",
    "def kmer(len_str):\n",
    "    opt = \"ACGT\"\n",
    "    s = \"\"\n",
    "    s_last = \"\"\n",
    "    for i in range(len_str):\n",
    "        s += opt[0]\n",
    "\n",
    "    for i in range(len_str):\n",
    "        s_last += opt[-1]\n",
    "\n",
    "    pos = 0\n",
    "    counter = 1\n",
    "    while (s != s_last):\n",
    "        counter += 1\n",
    "        # You can uncomment the next line to see all k-mers.\n",
    "        # However, keep in mind to only uncomment for small k-mers (lon <= 4) \n",
    "        # print(s)\n",
    "        change_next = True\n",
    "        for i in range(len_str):\n",
    "            if (change_next):\n",
    "                if (s[i] == opt[-1]):\n",
    "                    s = s[:i] + convert(s[i]) + s[i+1:]\n",
    "                    change_next = True\n",
    "                else:\n",
    "                    s = s[:i] + convert(s[i]) + s[i+1:]\n",
    "                    break\n",
    "    return counter\n",
    "\n",
    "# Start the main program \n",
    "\n",
    "print(\"Start\")\n",
    "\n",
    "# Modifica este valor para definir la longitud de los k-mers\n",
    "\n",
    "lon = 14\n",
    "\n",
    "numero = kmer(lon)\n",
    "\n",
    "print(\"Number of generated k-mers: {}\\n\".format(numero))\n",
    "\n",
    "%timeit -r3 kmer(lon)\n",
    "\n",
    "print(\"\\nFinish!\")\n"
   ]
  },
  {
   "cell_type": "code",
   "execution_count": null,
   "metadata": {},
   "outputs": [],
   "source": []
  }
 ],
 "metadata": {
  "kernelspec": {
   "display_name": "Python 3.6",
   "language": "python",
   "name": "python3.6"
  },
  "language_info": {
   "codemirror_mode": {
    "name": "ipython",
    "version": 3
   },
   "file_extension": ".py",
   "mimetype": "text/x-python",
   "name": "python",
   "nbconvert_exporter": "python",
   "pygments_lexer": "ipython3",
   "version": "3.6.8"
  }
 },
 "nbformat": 4,
 "nbformat_minor": 4
}
